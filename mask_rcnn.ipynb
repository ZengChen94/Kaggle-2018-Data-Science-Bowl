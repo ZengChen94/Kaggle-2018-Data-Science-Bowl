{
  "nbformat": 4,
  "nbformat_minor": 0,
  "metadata": {
    "colab": {
      "name": "mask-rcnn.ipynb",
      "version": "0.3.2",
      "views": {},
      "default_view": {},
      "provenance": [],
      "collapsed_sections": []
    },
    "kernelspec": {
      "display_name": "Python 3",
      "language": "python",
      "name": "python3"
    },
    "accelerator": "GPU"
  },
  "cells": [
    {
      "metadata": {
        "id": "0vOpX9SstEZE",
        "colab_type": "code",
        "colab": {
          "autoexec": {
            "startup": false,
            "wait_interval": 0
          },
          "output_extras": [
            {
              "item_id": 12
            }
          ],
          "base_uri": "https://localhost:8080/",
          "height": 391
        },
        "outputId": "ee9beae6-9c93-4824-e420-f2bc80ee88c9",
        "executionInfo": {
          "status": "ok",
          "timestamp": 1522190982016,
          "user_tz": 300,
          "elapsed": 11120,
          "user": {
            "displayName": "Chen Zeng",
            "photoUrl": "//lh6.googleusercontent.com/-7Obng4r7Tp8/AAAAAAAAAAI/AAAAAAAAAKM/FYaQnazg2r4/s50-c-k-no/photo.jpg",
            "userId": "110667679279915623812"
          }
        }
      },
      "cell_type": "code",
      "source": [
        "# Data download and unzipping\n",
        "!wget https://raw.githubusercontent.com/AakashSudhakar/2018-data-science-bowl/master/compressed_files/stage1_test.zip -c\n",
        "!wget https://raw.githubusercontent.com/AakashSudhakar/2018-data-science-bowl/master/compressed_files/stage1_train.zip -c\n",
        "\n",
        "!mkdir stage1_train stage1_test\n",
        "\n",
        "!unzip -q stage1_train.zip -d stage1_train/\n",
        "!unzip -q stage1_test.zip -d stage1_test/"
      ],
      "execution_count": 1,
      "outputs": [
        {
          "output_type": "stream",
          "text": [
            "--2018-03-27 22:49:32--  https://raw.githubusercontent.com/AakashSudhakar/2018-data-science-bowl/master/compressed_files/stage1_test.zip\r\n",
            "Resolving raw.githubusercontent.com (raw.githubusercontent.com)... 151.101.0.133, 151.101.64.133, 151.101.128.133, ...\n",
            "Connecting to raw.githubusercontent.com (raw.githubusercontent.com)|151.101.0.133|:443... connected.\n",
            "HTTP request sent, awaiting response... 200 OK\n",
            "Length: 9545388 (9.1M) [application/zip]\n",
            "Saving to: ‘stage1_test.zip’\n",
            "\n",
            "stage1_test.zip     100%[===================>]   9.10M  18.1MB/s    in 0.5s    \n",
            "\n",
            "2018-03-27 22:49:32 (18.1 MB/s) - ‘stage1_test.zip’ saved [9545388/9545388]\n",
            "\n",
            "--2018-03-27 22:49:33--  https://raw.githubusercontent.com/AakashSudhakar/2018-data-science-bowl/master/compressed_files/stage1_train.zip\n",
            "Resolving raw.githubusercontent.com (raw.githubusercontent.com)... 151.101.0.133, 151.101.64.133, 151.101.128.133, ...\n",
            "Connecting to raw.githubusercontent.com (raw.githubusercontent.com)|151.101.0.133|:443... connected.\n",
            "HTTP request sent, awaiting response... 200 OK\n",
            "Length: 82923446 (79M) [application/zip]\n",
            "Saving to: ‘stage1_train.zip’\n",
            "\n",
            "stage1_train.zip    100%[===================>]  79.08M  73.1MB/s    in 1.1s    \n",
            "\n",
            "2018-03-27 22:49:35 (73.1 MB/s) - ‘stage1_train.zip’ saved [82923446/82923446]\n",
            "\n"
          ],
          "name": "stdout"
        }
      ]
    },
    {
      "metadata": {
        "id": "zCqz6rxxtGgn",
        "colab_type": "code",
        "colab": {
          "autoexec": {
            "startup": false,
            "wait_interval": 0
          },
          "output_extras": [
            {
              "item_id": 14
            }
          ],
          "base_uri": "https://localhost:8080/",
          "height": 391
        },
        "outputId": "e9865eea-3b11-4b16-ffa6-e88a3c90c34c",
        "executionInfo": {
          "status": "ok",
          "timestamp": 1522199878466,
          "user_tz": 300,
          "elapsed": 13581,
          "user": {
            "displayName": "Chen Zeng",
            "photoUrl": "//lh6.googleusercontent.com/-7Obng4r7Tp8/AAAAAAAAAAI/AAAAAAAAAKM/FYaQnazg2r4/s50-c-k-no/photo.jpg",
            "userId": "110667679279915623812"
          }
        }
      },
      "cell_type": "code",
      "source": [
        "# Downloading and intstalling keras\n",
        "!pip install keras\n",
        "!pip install tqdm\n",
        "\n",
        "# Downloading the library Mask_RCNN\n",
        "# !git clone https://github.com/matterport/Mask_RCNN.git\n",
        "!git clone https://github.com/ZengChen94/Mask_RCNN.git\n",
        "!mv ./Mask_RCNN/* ./\n",
        "!rm -r ./Mask_RCNN\n",
        "!ls"
      ],
      "execution_count": 2,
      "outputs": [
        {
          "output_type": "stream",
          "text": [
            "Requirement already satisfied: keras in /usr/local/lib/python3.6/dist-packages\r\n",
            "Requirement already satisfied: six>=1.9.0 in /usr/local/lib/python3.6/dist-packages (from keras)\r\n",
            "Requirement already satisfied: pyyaml in /usr/local/lib/python3.6/dist-packages (from keras)\r\n",
            "Requirement already satisfied: numpy>=1.9.1 in /usr/local/lib/python3.6/dist-packages (from keras)\r\n",
            "Requirement already satisfied: scipy>=0.14 in /usr/local/lib/python3.6/dist-packages (from keras)\n",
            "Requirement already satisfied: tqdm in /usr/local/lib/python3.6/dist-packages\n",
            "Cloning into 'Mask_RCNN'...\n",
            "remote: Counting objects: 335, done.\u001b[K\n",
            "remote: Compressing objects: 100% (10/10), done.\u001b[K\n",
            "remote: Total 335 (delta 7), reused 14 (delta 6), pack-reused 319\u001b[K\n",
            "Receiving objects: 100% (335/335), 50.52 MiB | 40.01 MiB/s, done.\n",
            "Resolving deltas: 100% (176/176), done.\n",
            "mv: cannot move './Mask_RCNN/assets' to './assets': Directory not empty\n",
            "mv: cannot move './Mask_RCNN/images' to './images': Directory not empty\n",
            "mv: cannot move './Mask_RCNN/samples' to './samples': Directory not empty\n",
            "assets\t\t    inspect_model.ipynb    __pycache__\t    stage1_train.zip\n",
            "coco.py\t\t    inspect_weights.ipynb  README.md\t    train_shapes.ipynb\n",
            "config.py\t    LICENSE\t\t   samples\t    utils.py\n",
            "datalab\t\t    logs\t\t   shapes.py\t    visualize.py\n",
            "demo.ipynb\t    mask_rcnn_coco.h5\t   stage1_test\n",
            "images\t\t    model.py\t\t   stage1_test.zip\n",
            "inspect_data.ipynb  parallel_model.py\t   stage1_train\n"
          ],
          "name": "stdout"
        }
      ]
    },
    {
      "metadata": {
        "id": "3UOMvOZatxTr",
        "colab_type": "code",
        "colab": {
          "autoexec": {
            "startup": false,
            "wait_interval": 0
          }
        }
      },
      "cell_type": "code",
      "source": [
        "%load_ext autoreload\n",
        "%autoreload 2\n",
        "%matplotlib inline "
      ],
      "execution_count": 0,
      "outputs": []
    },
    {
      "metadata": {
        "id": "it1OXYJjtEZL",
        "colab_type": "code",
        "colab": {
          "autoexec": {
            "startup": false,
            "wait_interval": 0
          },
          "output_extras": [
            {
              "item_id": 1
            }
          ],
          "base_uri": "https://localhost:8080/",
          "height": 34
        },
        "outputId": "14f1b858-ad81-4b7b-a597-70375fbbb04c",
        "executionInfo": {
          "status": "ok",
          "timestamp": 1522199897989,
          "user_tz": 300,
          "elapsed": 2968,
          "user": {
            "displayName": "Chen Zeng",
            "photoUrl": "//lh6.googleusercontent.com/-7Obng4r7Tp8/AAAAAAAAAAI/AAAAAAAAAKM/FYaQnazg2r4/s50-c-k-no/photo.jpg",
            "userId": "110667679279915623812"
          }
        }
      },
      "cell_type": "code",
      "source": [
        "import os\n",
        "import sys\n",
        "import random\n",
        "import warnings\n",
        "import numpy as np\n",
        "import pandas as pd\n",
        "import matplotlib.pyplot as plt\n",
        "from tqdm import tqdm\n",
        "from itertools import chain\n",
        "from skimage.io import imread, imshow, imread_collection, concatenate_images\n",
        "from skimage.transform import resize\n",
        "from skimage.morphology import label\n",
        "import utils\n",
        "import cv2\n",
        "from glob import glob\n",
        "import skimage.io\n",
        "import seaborn as sns\n",
        "import sys\n",
        "import math\n",
        "import re\n",
        "import time\n",
        "import matplotlib\n",
        "import matplotlib.patches as patches\n",
        "from config import Config\n",
        "import model as modellib\n",
        "import visualize\n",
        "from model import log\n",
        "\n",
        "ROOT_DIR = os.getcwd()\n",
        "MODEL_DIR = os.path.join(ROOT_DIR, \"logs\")\n",
        "COCO_MODEL_PATH = os.path.join(ROOT_DIR, \"mask_rcnn_coco.h5\")\n",
        "if not os.path.exists(COCO_MODEL_PATH):\n",
        "    utils.download_trained_weights(COCO_MODEL_PATH)"
      ],
      "execution_count": 4,
      "outputs": [
        {
          "output_type": "stream",
          "text": [
            "Using TensorFlow backend.\n"
          ],
          "name": "stderr"
        }
      ]
    },
    {
      "metadata": {
        "id": "Hd2E00v9tEZQ",
        "colab_type": "code",
        "colab": {
          "autoexec": {
            "startup": false,
            "wait_interval": 0
          }
        }
      },
      "cell_type": "code",
      "source": [
        "TRAIN_PATH = './stage1_train/'\n",
        "TEST_PATH = './stage1_test/'\n",
        "train_ids = next(os.walk(TRAIN_PATH))[1]\n",
        "test_ids = next(os.walk(TEST_PATH))[1]\n",
        "kernel = np.ones((1,1),np.uint8)"
      ],
      "execution_count": 0,
      "outputs": []
    },
    {
      "metadata": {
        "id": "oXqSwLVctEZj",
        "colab_type": "code",
        "colab": {
          "autoexec": {
            "startup": false,
            "wait_interval": 0
          }
        }
      },
      "cell_type": "code",
      "source": [
        "class KaggleTrainDataset(utils.Dataset):\n",
        "    def get_path(self, id_):\n",
        "        return './stage1_train/' + id_ + '/images/' + id_ + '.png'\n",
        "    \n",
        "    def load_data(self, train_ids):\n",
        "        self.add_class(\"nuclei\", 1, \"nuclei\")\n",
        "        self.sizes = []\n",
        "        self.img_ids = train_ids\n",
        "        for i, id_ in tqdm(enumerate(self.img_ids), total=len(self.img_ids)):\n",
        "            path = self.get_path(id_)\n",
        "            img = imread(path)[:, :, :3]\n",
        "            img = cv2.morphologyEx(img, cv2.MORPH_CLOSE, kernel)\n",
        "            w, h = img.shape[0], img.shape[1]\n",
        "            self.sizes.append((w, h))\n",
        "            self.add_image(\"nuclei\", image_id = i, path=id_, width=w, height=h)\n",
        "\n",
        "    def load_image(self, image_id):\n",
        "        image_name = self.img_ids[image_id]\n",
        "        path = self.get_path(image_name)\n",
        "        img = imread(path)[:,:,:3]\n",
        "        w, h = img.shape[0], img.shape[1]\n",
        "        return img\n",
        "    \n",
        "    def load_mask(self, image_id):\n",
        "        id_ = self.img_ids[image_id]\n",
        "        mask_path = './stage1_train/' + id_ + '/masks/'\n",
        "        num_masks = len(next(os.walk(mask_path))[2])\n",
        "        width, height = self.sizes[image_id]\n",
        "        mask = np.zeros((width, height, num_masks), dtype=np.bool)\n",
        "        for i, mask_file in enumerate(next(os.walk(mask_path))[2]):\n",
        "            mask_ = imread(mask_path + mask_file)\n",
        "            mask_ = mask_.reshape((mask_.shape[0], mask_.shape[1], 1))\n",
        "            mask[:,:,i:i+1] = mask_\n",
        "        return mask, np.ones(num_masks, np.int32)\n",
        "      \n",
        "class KaggleTestDataset(utils.Dataset):\n",
        "    def get_path(self, id_):\n",
        "        return './stage1_test/' + id_ + '/images/' + id_ + '.png'\n",
        "    \n",
        "    def load_data(self, test_ids):\n",
        "        self.add_class(\"nuclei\", 1, \"nuclei\")\n",
        "        self.sizes = []\n",
        "        self.img_ids = test_ids\n",
        "        for i, id_ in tqdm(enumerate(self.img_ids), total=len(self.img_ids)):\n",
        "            path = self.get_path(id_)\n",
        "            img = imread(path)[:, :, :3]\n",
        "            img = cv2.morphologyEx(img, cv2.MORPH_CLOSE, kernel)\n",
        "            w, h = img.shape[0], img.shape[1]\n",
        "            self.sizes.append((w, h))\n",
        "            self.add_image(\"nuclei\", image_id = i, path=id_, width=w, height=h)\n",
        "\n",
        "    def load_image(self, image_id):\n",
        "        image_name = self.img_ids[image_id]\n",
        "        path = self.get_path(image_name)\n",
        "        img = imread(path)[:,:,:3]\n",
        "        w, h = img.shape[0], img.shape[1]\n",
        "        return img"
      ],
      "execution_count": 0,
      "outputs": []
    },
    {
      "metadata": {
        "id": "Z2CnoFbptEZl",
        "colab_type": "code",
        "colab": {
          "autoexec": {
            "startup": false,
            "wait_interval": 0
          },
          "output_extras": [
            {
              "item_id": 28
            }
          ],
          "base_uri": "https://localhost:8080/",
          "height": 68
        },
        "outputId": "8197368d-4293-4d34-9de0-e88ccf34498e",
        "executionInfo": {
          "status": "ok",
          "timestamp": 1522199913699,
          "user_tz": 300,
          "elapsed": 7013,
          "user": {
            "displayName": "Chen Zeng",
            "photoUrl": "//lh6.googleusercontent.com/-7Obng4r7Tp8/AAAAAAAAAAI/AAAAAAAAAKM/FYaQnazg2r4/s50-c-k-no/photo.jpg",
            "userId": "110667679279915623812"
          }
        }
      },
      "cell_type": "code",
      "source": [
        "# Load dataset\n",
        "dataset_train = KaggleTrainDataset()\n",
        "dataset_train.load_data(train_ids[:600])\n",
        "dataset_train.prepare()\n",
        "\n",
        "dataset_val = KaggleTrainDataset()\n",
        "dataset_val.load_data(train_ids[600:670])\n",
        "dataset_val.prepare()\n",
        "\n",
        "dataset_test = KaggleTestDataset()\n",
        "dataset_test.load_data(test_ids)\n",
        "dataset_test.prepare()"
      ],
      "execution_count": 7,
      "outputs": [
        {
          "output_type": "stream",
          "text": [
            "100%|██████████| 600/600 [00:05<00:00, 105.60it/s]\n",
            "100%|██████████| 70/70 [00:00<00:00, 156.05it/s]\n",
            "100%|██████████| 65/65 [00:00<00:00, 108.41it/s]\n"
          ],
          "name": "stderr"
        }
      ]
    },
    {
      "metadata": {
        "id": "O6F4c9UTtEZw",
        "colab_type": "code",
        "colab": {
          "autoexec": {
            "startup": false,
            "wait_interval": 0
          },
          "output_extras": [
            {
              "item_id": 1
            }
          ],
          "base_uri": "https://localhost:8080/",
          "height": 816
        },
        "outputId": "43ff97e1-733f-40b7-dd18-306563c0da96",
        "executionInfo": {
          "status": "ok",
          "timestamp": 1522199915765,
          "user_tz": 300,
          "elapsed": 234,
          "user": {
            "displayName": "Chen Zeng",
            "photoUrl": "//lh6.googleusercontent.com/-7Obng4r7Tp8/AAAAAAAAAAI/AAAAAAAAAKM/FYaQnazg2r4/s50-c-k-no/photo.jpg",
            "userId": "110667679279915623812"
          }
        }
      },
      "cell_type": "code",
      "source": [
        "# Configurations\n",
        "class KaggleConfig(Config):\n",
        "    \"\"\"Configuration for training on the toy shapes dataset.\n",
        "    Derives from the base Config class and overrides values specific\n",
        "    to the toy shapes dataset.\n",
        "    \"\"\"\n",
        "    NAME = \"shapes\"\n",
        "    GPU_COUNT = 1\n",
        "    IMAGES_PER_GPU = 8\n",
        "    NUM_CLASSES = 1 + 1\n",
        "    IMAGE_MIN_DIM = 256*2\n",
        "    IMAGE_MAX_DIM = 256*2\n",
        "    RPN_ANCHOR_SCALES = (8, 16, 32, 64, 128)  \n",
        "    TRAIN_ROIS_PER_IMAGE = 32\n",
        "    STEPS_PER_EPOCH = 100\n",
        "    VALIDATION_STEPS = 5\n",
        "config = KaggleConfig()\n",
        "config.display()"
      ],
      "execution_count": 8,
      "outputs": [
        {
          "output_type": "stream",
          "text": [
            "\n",
            "Configurations:\n",
            "BACKBONE                       resnet101\n",
            "BACKBONE_SHAPES                [[128 128]\n",
            " [ 64  64]\n",
            " [ 32  32]\n",
            " [ 16  16]\n",
            " [  8   8]]\n",
            "BACKBONE_STRIDES               [4, 8, 16, 32, 64]\n",
            "BATCH_SIZE                     8\n",
            "BBOX_STD_DEV                   [0.1 0.1 0.2 0.2]\n",
            "DETECTION_MAX_INSTANCES        100\n",
            "DETECTION_MIN_CONFIDENCE       0.7\n",
            "DETECTION_NMS_THRESHOLD        0.3\n",
            "GPU_COUNT                      1\n",
            "IMAGES_PER_GPU                 8\n",
            "IMAGE_MAX_DIM                  512\n",
            "IMAGE_MIN_DIM                  512\n",
            "IMAGE_PADDING                  True\n",
            "IMAGE_SHAPE                    [512 512   3]\n",
            "LEARNING_MOMENTUM              0.9\n",
            "LEARNING_RATE                  0.001\n",
            "MASK_POOL_SIZE                 14\n",
            "MASK_SHAPE                     [28, 28]\n",
            "MAX_GT_INSTANCES               100\n",
            "MEAN_PIXEL                     [123.7 116.8 103.9]\n",
            "MINI_MASK_SHAPE                (56, 56)\n",
            "NAME                           shapes\n",
            "NUM_CLASSES                    2\n",
            "POOL_SIZE                      7\n",
            "POST_NMS_ROIS_INFERENCE        1000\n",
            "POST_NMS_ROIS_TRAINING         2000\n",
            "ROI_POSITIVE_RATIO             0.33\n",
            "RPN_ANCHOR_RATIOS              [0.5, 1, 2]\n",
            "RPN_ANCHOR_SCALES              (8, 16, 32, 64, 128)\n",
            "RPN_ANCHOR_STRIDE              1\n",
            "RPN_BBOX_STD_DEV               [0.1 0.1 0.2 0.2]\n",
            "RPN_NMS_THRESHOLD              0.7\n",
            "RPN_TRAIN_ANCHORS_PER_IMAGE    256\n",
            "STEPS_PER_EPOCH                100\n",
            "TRAIN_ROIS_PER_IMAGE           32\n",
            "USE_MINI_MASK                  True\n",
            "USE_RPN_ROIS                   True\n",
            "VALIDATION_STEPS               5\n",
            "WEIGHT_DECAY                   0.0001\n",
            "\n",
            "\n"
          ],
          "name": "stdout"
        }
      ]
    },
    {
      "metadata": {
        "id": "aBtTUhk2hpU6",
        "colab_type": "code",
        "colab": {
          "autoexec": {
            "startup": false,
            "wait_interval": 0
          }
        }
      },
      "cell_type": "code",
      "source": [
        "# Notebook Preferences\n",
        "def get_ax(rows=1, cols=1, size=8):\n",
        "    _, ax = plt.subplots(rows, cols, figsize=(size*cols, size*rows))\n",
        "    return ax"
      ],
      "execution_count": 0,
      "outputs": []
    },
    {
      "metadata": {
        "id": "9jMC4Al1hdpL",
        "colab_type": "code",
        "colab": {
          "autoexec": {
            "startup": false,
            "wait_interval": 0
          }
        }
      },
      "cell_type": "code",
      "source": [
        "# Create model in training mode\n",
        "model = modellib.MaskRCNN(mode=\"training\", config=config,\n",
        "                          model_dir=MODEL_DIR)\n",
        "\n",
        "# Weights to start with\n",
        "init_with = \"coco\"  # imagenet, coco, or last\n",
        "if init_with == \"imagenet\":\n",
        "    model.load_weights(model.get_imagenet_weights(), by_name=True)\n",
        "elif init_with == \"coco\":\n",
        "    # Load weights trained on MS COCO, but skip layers that\n",
        "    # are different due to the different number of classes\n",
        "    # See README for instructions to download the COCO weights\n",
        "    model.load_weights(COCO_MODEL_PATH, by_name=True,\n",
        "                       exclude=[\"mrcnn_class_logits\", \"mrcnn_bbox_fc\", \n",
        "                                \"mrcnn_bbox\", \"mrcnn_mask\"])\n",
        "elif init_with == \"last\":\n",
        "    # Load the last model you trained and continue training\n",
        "    model.load_weights(model.find_last()[1], by_name=True)"
      ],
      "execution_count": 0,
      "outputs": []
    },
    {
      "metadata": {
        "id": "AiIu86KVtEZz",
        "colab_type": "code",
        "colab": {
          "autoexec": {
            "startup": false,
            "wait_interval": 0
          }
        }
      },
      "cell_type": "code",
      "source": [
        "# import warnings\n",
        "# warnings.simplefilter(action='ignore', category=FutureWarning)\n",
        "\n",
        "# # Train the head branches\n",
        "# # Passing layers=\"heads\" freezes all layers except the head\n",
        "# # layers. You can also pass a regular expression to select\n",
        "# # which layers to train by name pattern.\n",
        "# model.train(dataset_train, dataset_val, \n",
        "#             learning_rate=config.LEARNING_RATE, \n",
        "#             epochs=1, layers='heads')"
      ],
      "execution_count": 0,
      "outputs": []
    },
    {
      "metadata": {
        "id": "GfyPq_x8tEZ6",
        "colab_type": "code",
        "colab": {
          "autoexec": {
            "startup": false,
            "wait_interval": 0
          },
          "output_extras": [
            {
              "item_id": 2
            },
            {
              "item_id": 5
            },
            {
              "item_id": 228
            },
            {
              "item_id": 436
            },
            {
              "item_id": 640
            },
            {
              "item_id": 842
            },
            {
              "item_id": 1044
            },
            {
              "item_id": 1246
            },
            {
              "item_id": 1448
            },
            {
              "item_id": 1650
            },
            {
              "item_id": 1852
            },
            {
              "item_id": 2054
            },
            {
              "item_id": 2254
            },
            {
              "item_id": 2456
            },
            {
              "item_id": 2658
            },
            {
              "item_id": 2860
            },
            {
              "item_id": 3062
            },
            {
              "item_id": 3264
            },
            {
              "item_id": 3463
            },
            {
              "item_id": 3665
            },
            {
              "item_id": 3867
            },
            {
              "item_id": 4069
            },
            {
              "item_id": 4271
            },
            {
              "item_id": 4473
            },
            {
              "item_id": 4675
            },
            {
              "item_id": 4877
            },
            {
              "item_id": 5049
            }
          ],
          "base_uri": "https://localhost:8080/",
          "height": 5987
        },
        "outputId": "c325caab-17fc-47ff-cb24-b9c6100a31ff",
        "executionInfo": {
          "status": "ok",
          "timestamp": 1522220781194,
          "user_tz": 300,
          "elapsed": 20824225,
          "user": {
            "displayName": "Chen Zeng",
            "photoUrl": "//lh6.googleusercontent.com/-7Obng4r7Tp8/AAAAAAAAAAI/AAAAAAAAAKM/FYaQnazg2r4/s50-c-k-no/photo.jpg",
            "userId": "110667679279915623812"
          }
        }
      },
      "cell_type": "code",
      "source": [
        "import warnings\n",
        "warnings.simplefilter(action='ignore', category=FutureWarning)\n",
        "\n",
        "# model_path = model.find_last()[1]\n",
        "# model.load_weights(model_path, by_name=True)\n",
        "\n",
        "# Fine tune all layers\n",
        "# Passing layers=\"all\" trains all layers. You can also \n",
        "# pass a regular expression to select which layers to\n",
        "# train by name pattern.\n",
        "model.train(dataset_train, dataset_val, \n",
        "            learning_rate=config.LEARNING_RATE / 10,\n",
        "            epochs=50, \n",
        "            layers=\"all\")"
      ],
      "execution_count": 11,
      "outputs": [
        {
          "output_type": "stream",
          "text": [
            "\n",
            "Starting at epoch 0. LR=0.0001\n",
            "\n",
            "Checkpoint Path: /content/logs/shapes20180328T0118/mask_rcnn_shapes_{epoch:04d}.h5\n",
            "Selecting layers to train\n",
            "conv1                  (Conv2D)\n",
            "bn_conv1               (BatchNorm)\n",
            "res2a_branch2a         (Conv2D)\n",
            "bn2a_branch2a          (BatchNorm)\n",
            "res2a_branch2b         (Conv2D)\n",
            "bn2a_branch2b          (BatchNorm)\n",
            "res2a_branch2c         (Conv2D)\n",
            "res2a_branch1          (Conv2D)\n",
            "bn2a_branch2c          (BatchNorm)\n",
            "bn2a_branch1           (BatchNorm)\n",
            "res2b_branch2a         (Conv2D)\n",
            "bn2b_branch2a          (BatchNorm)\n",
            "res2b_branch2b         (Conv2D)\n",
            "bn2b_branch2b          (BatchNorm)\n",
            "res2b_branch2c         (Conv2D)\n",
            "bn2b_branch2c          (BatchNorm)\n",
            "res2c_branch2a         (Conv2D)\n",
            "bn2c_branch2a          (BatchNorm)\n",
            "res2c_branch2b         (Conv2D)\n",
            "bn2c_branch2b          (BatchNorm)\n",
            "res2c_branch2c         (Conv2D)\n",
            "bn2c_branch2c          (BatchNorm)\n",
            "res3a_branch2a         (Conv2D)\n",
            "bn3a_branch2a          (BatchNorm)\n",
            "res3a_branch2b         (Conv2D)\n",
            "bn3a_branch2b          (BatchNorm)\n",
            "res3a_branch2c         (Conv2D)\n",
            "res3a_branch1          (Conv2D)\n",
            "bn3a_branch2c          (BatchNorm)\n",
            "bn3a_branch1           (BatchNorm)\n",
            "res3b_branch2a         (Conv2D)\n",
            "bn3b_branch2a          (BatchNorm)\n",
            "res3b_branch2b         (Conv2D)\n",
            "bn3b_branch2b          (BatchNorm)\n",
            "res3b_branch2c         (Conv2D)\n",
            "bn3b_branch2c          (BatchNorm)\n",
            "res3c_branch2a         (Conv2D)\n",
            "bn3c_branch2a          (BatchNorm)\n",
            "res3c_branch2b         (Conv2D)\n",
            "bn3c_branch2b          (BatchNorm)\n",
            "res3c_branch2c         (Conv2D)\n",
            "bn3c_branch2c          (BatchNorm)\n",
            "res3d_branch2a         (Conv2D)\n",
            "bn3d_branch2a          (BatchNorm)\n",
            "res3d_branch2b         (Conv2D)\n",
            "bn3d_branch2b          (BatchNorm)\n",
            "res3d_branch2c         (Conv2D)\n",
            "bn3d_branch2c          (BatchNorm)\n",
            "res4a_branch2a         (Conv2D)\n",
            "bn4a_branch2a          (BatchNorm)\n",
            "res4a_branch2b         (Conv2D)\n",
            "bn4a_branch2b          (BatchNorm)\n",
            "res4a_branch2c         (Conv2D)\n",
            "res4a_branch1          (Conv2D)\n",
            "bn4a_branch2c          (BatchNorm)\n",
            "bn4a_branch1           (BatchNorm)\n",
            "res4b_branch2a         (Conv2D)\n",
            "bn4b_branch2a          (BatchNorm)\n",
            "res4b_branch2b         (Conv2D)\n",
            "bn4b_branch2b          (BatchNorm)\n",
            "res4b_branch2c         (Conv2D)\n",
            "bn4b_branch2c          (BatchNorm)\n",
            "res4c_branch2a         (Conv2D)\n",
            "bn4c_branch2a          (BatchNorm)\n",
            "res4c_branch2b         (Conv2D)\n",
            "bn4c_branch2b          (BatchNorm)\n",
            "res4c_branch2c         (Conv2D)\n",
            "bn4c_branch2c          (BatchNorm)\n",
            "res4d_branch2a         (Conv2D)\n",
            "bn4d_branch2a          (BatchNorm)\n",
            "res4d_branch2b         (Conv2D)\n",
            "bn4d_branch2b          (BatchNorm)\n",
            "res4d_branch2c         (Conv2D)\n",
            "bn4d_branch2c          (BatchNorm)\n",
            "res4e_branch2a         (Conv2D)\n",
            "bn4e_branch2a          (BatchNorm)\n",
            "res4e_branch2b         (Conv2D)\n",
            "bn4e_branch2b          (BatchNorm)\n",
            "res4e_branch2c         (Conv2D)\n",
            "bn4e_branch2c          (BatchNorm)\n",
            "res4f_branch2a         (Conv2D)\n",
            "bn4f_branch2a          (BatchNorm)\n",
            "res4f_branch2b         (Conv2D)\n",
            "bn4f_branch2b          (BatchNorm)\n",
            "res4f_branch2c         (Conv2D)\n",
            "bn4f_branch2c          (BatchNorm)\n",
            "res4g_branch2a         (Conv2D)\n",
            "bn4g_branch2a          (BatchNorm)\n",
            "res4g_branch2b         (Conv2D)\n",
            "bn4g_branch2b          (BatchNorm)\n",
            "res4g_branch2c         (Conv2D)\n",
            "bn4g_branch2c          (BatchNorm)\n",
            "res4h_branch2a         (Conv2D)\n",
            "bn4h_branch2a          (BatchNorm)\n",
            "res4h_branch2b         (Conv2D)\n",
            "bn4h_branch2b          (BatchNorm)\n",
            "res4h_branch2c         (Conv2D)\n",
            "bn4h_branch2c          (BatchNorm)\n",
            "res4i_branch2a         (Conv2D)\n",
            "bn4i_branch2a          (BatchNorm)\n",
            "res4i_branch2b         (Conv2D)\n",
            "bn4i_branch2b          (BatchNorm)\n",
            "res4i_branch2c         (Conv2D)\n",
            "bn4i_branch2c          (BatchNorm)\n",
            "res4j_branch2a         (Conv2D)\n",
            "bn4j_branch2a          (BatchNorm)\n",
            "res4j_branch2b         (Conv2D)\n",
            "bn4j_branch2b          (BatchNorm)\n",
            "res4j_branch2c         (Conv2D)\n",
            "bn4j_branch2c          (BatchNorm)\n",
            "res4k_branch2a         (Conv2D)\n",
            "bn4k_branch2a          (BatchNorm)\n",
            "res4k_branch2b         (Conv2D)\n",
            "bn4k_branch2b          (BatchNorm)\n",
            "res4k_branch2c         (Conv2D)\n",
            "bn4k_branch2c          (BatchNorm)\n",
            "res4l_branch2a         (Conv2D)\n",
            "bn4l_branch2a          (BatchNorm)\n",
            "res4l_branch2b         (Conv2D)\n",
            "bn4l_branch2b          (BatchNorm)\n",
            "res4l_branch2c         (Conv2D)\n",
            "bn4l_branch2c          (BatchNorm)\n",
            "res4m_branch2a         (Conv2D)\n",
            "bn4m_branch2a          (BatchNorm)\n",
            "res4m_branch2b         (Conv2D)\n",
            "bn4m_branch2b          (BatchNorm)\n",
            "res4m_branch2c         (Conv2D)\n",
            "bn4m_branch2c          (BatchNorm)\n",
            "res4n_branch2a         (Conv2D)\n",
            "bn4n_branch2a          (BatchNorm)\n",
            "res4n_branch2b         (Conv2D)\n",
            "bn4n_branch2b          (BatchNorm)\n",
            "res4n_branch2c         (Conv2D)\n",
            "bn4n_branch2c          (BatchNorm)\n",
            "res4o_branch2a         (Conv2D)\n",
            "bn4o_branch2a          (BatchNorm)\n",
            "res4o_branch2b         (Conv2D)\n",
            "bn4o_branch2b          (BatchNorm)\n",
            "res4o_branch2c         (Conv2D)\n",
            "bn4o_branch2c          (BatchNorm)\n",
            "res4p_branch2a         (Conv2D)\n",
            "bn4p_branch2a          (BatchNorm)\n",
            "res4p_branch2b         (Conv2D)\n",
            "bn4p_branch2b          (BatchNorm)\n",
            "res4p_branch2c         (Conv2D)\n",
            "bn4p_branch2c          (BatchNorm)\n",
            "res4q_branch2a         (Conv2D)\n",
            "bn4q_branch2a          (BatchNorm)\n",
            "res4q_branch2b         (Conv2D)\n",
            "bn4q_branch2b          (BatchNorm)\n",
            "res4q_branch2c         (Conv2D)\n",
            "bn4q_branch2c          (BatchNorm)\n",
            "res4r_branch2a         (Conv2D)\n",
            "bn4r_branch2a          (BatchNorm)\n",
            "res4r_branch2b         (Conv2D)\n",
            "bn4r_branch2b          (BatchNorm)\n",
            "res4r_branch2c         (Conv2D)\n",
            "bn4r_branch2c          (BatchNorm)\n",
            "res4s_branch2a         (Conv2D)\n",
            "bn4s_branch2a          (BatchNorm)\n",
            "res4s_branch2b         (Conv2D)\n",
            "bn4s_branch2b          (BatchNorm)\n",
            "res4s_branch2c         (Conv2D)\n",
            "bn4s_branch2c          (BatchNorm)\n",
            "res4t_branch2a         (Conv2D)\n",
            "bn4t_branch2a          (BatchNorm)\n",
            "res4t_branch2b         (Conv2D)\n",
            "bn4t_branch2b          (BatchNorm)\n",
            "res4t_branch2c         (Conv2D)\n",
            "bn4t_branch2c          (BatchNorm)\n",
            "res4u_branch2a         (Conv2D)\n",
            "bn4u_branch2a          (BatchNorm)\n",
            "res4u_branch2b         (Conv2D)\n",
            "bn4u_branch2b          (BatchNorm)\n",
            "res4u_branch2c         (Conv2D)\n",
            "bn4u_branch2c          (BatchNorm)\n",
            "res4v_branch2a         (Conv2D)\n",
            "bn4v_branch2a          (BatchNorm)\n",
            "res4v_branch2b         (Conv2D)\n",
            "bn4v_branch2b          (BatchNorm)\n",
            "res4v_branch2c         (Conv2D)\n",
            "bn4v_branch2c          (BatchNorm)\n",
            "res4w_branch2a         (Conv2D)\n",
            "bn4w_branch2a          (BatchNorm)\n",
            "res4w_branch2b         (Conv2D)\n",
            "bn4w_branch2b          (BatchNorm)\n",
            "res4w_branch2c         (Conv2D)\n",
            "bn4w_branch2c          (BatchNorm)\n",
            "res5a_branch2a         (Conv2D)\n",
            "bn5a_branch2a          (BatchNorm)\n",
            "res5a_branch2b         (Conv2D)\n",
            "bn5a_branch2b          (BatchNorm)\n",
            "res5a_branch2c         (Conv2D)\n",
            "res5a_branch1          (Conv2D)\n",
            "bn5a_branch2c          (BatchNorm)\n",
            "bn5a_branch1           (BatchNorm)\n",
            "res5b_branch2a         (Conv2D)\n",
            "bn5b_branch2a          (BatchNorm)\n",
            "res5b_branch2b         (Conv2D)\n",
            "bn5b_branch2b          (BatchNorm)\n",
            "res5b_branch2c         (Conv2D)\n",
            "bn5b_branch2c          (BatchNorm)\n",
            "res5c_branch2a         (Conv2D)\n",
            "bn5c_branch2a          (BatchNorm)\n",
            "res5c_branch2b         (Conv2D)\n",
            "bn5c_branch2b          (BatchNorm)\n",
            "res5c_branch2c         (Conv2D)\n",
            "bn5c_branch2c          (BatchNorm)\n",
            "fpn_c5p5               (Conv2D)\n",
            "fpn_c4p4               (Conv2D)\n",
            "fpn_c3p3               (Conv2D)\n",
            "fpn_c2p2               (Conv2D)\n",
            "fpn_p5                 (Conv2D)\n",
            "fpn_p2                 (Conv2D)\n",
            "fpn_p3                 (Conv2D)\n",
            "fpn_p4                 (Conv2D)\n",
            "In model:  rpn_model\n",
            "    rpn_conv_shared        (Conv2D)\n",
            "    rpn_class_raw          (Conv2D)\n",
            "    rpn_bbox_pred          (Conv2D)\n",
            "mrcnn_mask_conv1       (TimeDistributed)\n",
            "mrcnn_mask_bn1         (TimeDistributed)\n",
            "mrcnn_mask_conv2       (TimeDistributed)\n",
            "mrcnn_mask_bn2         (TimeDistributed)\n",
            "mrcnn_class_conv1      (TimeDistributed)\n",
            "mrcnn_class_bn1        (TimeDistributed)\n",
            "mrcnn_mask_conv3       (TimeDistributed)\n",
            "mrcnn_mask_bn3         (TimeDistributed)\n",
            "mrcnn_class_conv2      (TimeDistributed)\n",
            "mrcnn_class_bn2        (TimeDistributed)\n",
            "mrcnn_mask_conv4       (TimeDistributed)\n",
            "mrcnn_mask_bn4         (TimeDistributed)\n",
            "mrcnn_bbox_fc          (TimeDistributed)\n",
            "mrcnn_mask_deconv      (TimeDistributed)\n",
            "mrcnn_class_logits     (TimeDistributed)\n",
            "mrcnn_mask             (TimeDistributed)\n",
            "WARNING:tensorflow:From /content/model.py:2078: calling reduce_mean (from tensorflow.python.ops.math_ops) with keep_dims is deprecated and will be removed in a future version.\n",
            "Instructions for updating:\n",
            "keep_dims is deprecated, use keepdims instead\n"
          ],
          "name": "stdout"
        },
        {
          "output_type": "stream",
          "text": [
            "/usr/local/lib/python3.6/dist-packages/scipy/ndimage/interpolation.py:600: UserWarning: From scipy 0.13.0, the output shape of zoom() is calculated with round() instead of int() - for these inputs the size of the returned array has changed.\n",
            "  \"the returned array has changed.\", UserWarning)\n",
            "/usr/local/lib/python3.6/dist-packages/tensorflow/python/ops/gradients_impl.py:98: UserWarning: Converting sparse IndexedSlices to a dense Tensor of unknown shape. This may consume a large amount of memory.\n",
            "  \"Converting sparse IndexedSlices to a dense Tensor of unknown shape. \"\n",
            "/usr/local/lib/python3.6/dist-packages/keras/engine/training.py:2087: UserWarning: Using a generator with `use_multiprocessing=True` and multiple workers may duplicate your data. Please consider using the`keras.utils.Sequence class.\n",
            "  UserWarning('Using a generator with `use_multiprocessing=True`'\n"
          ],
          "name": "stderr"
        },
        {
          "output_type": "stream",
          "text": [
            "Epoch 1/50\n",
            "100/100 [==============================] - 467s 5s/step - loss: 3.4189 - rpn_class_loss: 0.6386 - rpn_bbox_loss: 1.1403 - mrcnn_class_loss: 0.5471 - mrcnn_bbox_loss: 0.7015 - mrcnn_mask_loss: 0.3915 - val_loss: 1.9328 - val_rpn_class_loss: 0.1468 - val_rpn_bbox_loss: 0.8797 - val_mrcnn_class_loss: 0.1918 - val_mrcnn_bbox_loss: 0.3850 - val_mrcnn_mask_loss: 0.3295\n",
            "Epoch 2/50\n",
            "100/100 [==============================] - 397s 4s/step - loss: 1.7559 - rpn_class_loss: 0.1919 - rpn_bbox_loss: 0.8169 - mrcnn_class_loss: 0.1891 - mrcnn_bbox_loss: 0.2729 - mrcnn_mask_loss: 0.2852 - val_loss: 1.7525 - val_rpn_class_loss: 0.1057 - val_rpn_bbox_loss: 0.8332 - val_mrcnn_class_loss: 0.2478 - val_mrcnn_bbox_loss: 0.3018 - val_mrcnn_mask_loss: 0.2640\n",
            "Epoch 3/50\n",
            " 20/100 [=====>........................] - ETA: 5:09 - loss: 1.6352 - rpn_class_loss: 0.1648 - rpn_bbox_loss: 0.7827 - mrcnn_class_loss: 0.1844 - mrcnn_bbox_loss: 0.2400 - mrcnn_mask_loss: 0.2633"
          ],
          "name": "stdout"
        },
        {
          "output_type": "stream",
          "text": [
            "100/100 [==============================] - 392s 4s/step - loss: 1.5865 - rpn_class_loss: 0.1483 - rpn_bbox_loss: 0.7649 - mrcnn_class_loss: 0.1814 - mrcnn_bbox_loss: 0.2303 - mrcnn_mask_loss: 0.2616 - val_loss: 1.6263 - val_rpn_class_loss: 0.0904 - val_rpn_bbox_loss: 0.8147 - val_mrcnn_class_loss: 0.1631 - val_mrcnn_bbox_loss: 0.2805 - val_mrcnn_mask_loss: 0.2776\n",
            "Epoch 4/50\n",
            "100/100 [==============================] - 394s 4s/step - loss: 1.4788 - rpn_class_loss: 0.1161 - rpn_bbox_loss: 0.7240 - mrcnn_class_loss: 0.1753 - mrcnn_bbox_loss: 0.2114 - mrcnn_mask_loss: 0.2520 - val_loss: 1.5628 - val_rpn_class_loss: 0.0798 - val_rpn_bbox_loss: 0.7917 - val_mrcnn_class_loss: 0.1477 - val_mrcnn_bbox_loss: 0.2693 - val_mrcnn_mask_loss: 0.2742\n",
            "Epoch 5/50\n",
            " 26/100 [======>.......................] - ETA: 4:51 - loss: 1.4056 - rpn_class_loss: 0.1000 - rpn_bbox_loss: 0.7122 - mrcnn_class_loss: 0.1667 - mrcnn_bbox_loss: 0.1921 - mrcnn_mask_loss: 0.2346"
          ],
          "name": "stdout"
        },
        {
          "output_type": "stream",
          "text": [
            "100/100 [==============================] - 395s 4s/step - loss: 1.4058 - rpn_class_loss: 0.1008 - rpn_bbox_loss: 0.7010 - mrcnn_class_loss: 0.1693 - mrcnn_bbox_loss: 0.1972 - mrcnn_mask_loss: 0.2375 - val_loss: 1.4830 - val_rpn_class_loss: 0.0737 - val_rpn_bbox_loss: 0.7747 - val_mrcnn_class_loss: 0.1301 - val_mrcnn_bbox_loss: 0.2576 - val_mrcnn_mask_loss: 0.2468\n",
            "Epoch 6/50\n",
            "100/100 [==============================] - 397s 4s/step - loss: 1.3777 - rpn_class_loss: 0.0915 - rpn_bbox_loss: 0.6811 - mrcnn_class_loss: 0.1705 - mrcnn_bbox_loss: 0.1951 - mrcnn_mask_loss: 0.2395 - val_loss: 1.4589 - val_rpn_class_loss: 0.0685 - val_rpn_bbox_loss: 0.7575 - val_mrcnn_class_loss: 0.1578 - val_mrcnn_bbox_loss: 0.2450 - val_mrcnn_mask_loss: 0.2300\n",
            "Epoch 7/50\n",
            " 28/100 [=======>......................] - ETA: 4:48 - loss: 1.3326 - rpn_class_loss: 0.0878 - rpn_bbox_loss: 0.6455 - mrcnn_class_loss: 0.1767 - mrcnn_bbox_loss: 0.1880 - mrcnn_mask_loss: 0.2346"
          ],
          "name": "stdout"
        },
        {
          "output_type": "stream",
          "text": [
            "100/100 [==============================] - 405s 4s/step - loss: 1.3259 - rpn_class_loss: 0.0836 - rpn_bbox_loss: 0.6444 - mrcnn_class_loss: 0.1716 - mrcnn_bbox_loss: 0.1880 - mrcnn_mask_loss: 0.2384 - val_loss: 1.3978 - val_rpn_class_loss: 0.0644 - val_rpn_bbox_loss: 0.7419 - val_mrcnn_class_loss: 0.1268 - val_mrcnn_bbox_loss: 0.2240 - val_mrcnn_mask_loss: 0.2407\n",
            "Epoch 8/50\n",
            "100/100 [==============================] - 407s 4s/step - loss: 1.2859 - rpn_class_loss: 0.0814 - rpn_bbox_loss: 0.6335 - mrcnn_class_loss: 0.1635 - mrcnn_bbox_loss: 0.1783 - mrcnn_mask_loss: 0.2292 - val_loss: 1.4281 - val_rpn_class_loss: 0.0610 - val_rpn_bbox_loss: 0.7260 - val_mrcnn_class_loss: 0.1601 - val_mrcnn_bbox_loss: 0.2422 - val_mrcnn_mask_loss: 0.2388\n",
            "Epoch 9/50\n",
            " 28/100 [=======>......................] - ETA: 4:50 - loss: 1.2728 - rpn_class_loss: 0.0791 - rpn_bbox_loss: 0.6268 - mrcnn_class_loss: 0.1699 - mrcnn_bbox_loss: 0.1735 - mrcnn_mask_loss: 0.2235"
          ],
          "name": "stdout"
        },
        {
          "output_type": "stream",
          "text": [
            "100/100 [==============================] - 406s 4s/step - loss: 1.2672 - rpn_class_loss: 0.0758 - rpn_bbox_loss: 0.6166 - mrcnn_class_loss: 0.1704 - mrcnn_bbox_loss: 0.1764 - mrcnn_mask_loss: 0.2279 - val_loss: 1.4234 - val_rpn_class_loss: 0.0581 - val_rpn_bbox_loss: 0.7113 - val_mrcnn_class_loss: 0.1717 - val_mrcnn_bbox_loss: 0.2297 - val_mrcnn_mask_loss: 0.2527\n",
            "Epoch 10/50\n",
            "100/100 [==============================] - 414s 4s/step - loss: 1.2430 - rpn_class_loss: 0.0732 - rpn_bbox_loss: 0.5983 - mrcnn_class_loss: 0.1698 - mrcnn_bbox_loss: 0.1731 - mrcnn_mask_loss: 0.2286 - val_loss: 1.2814 - val_rpn_class_loss: 0.0562 - val_rpn_bbox_loss: 0.6949 - val_mrcnn_class_loss: 0.1718 - val_mrcnn_bbox_loss: 0.1528 - val_mrcnn_mask_loss: 0.2056\n",
            "Epoch 11/50\n",
            " 28/100 [=======>......................] - ETA: 4:52 - loss: 1.1933 - rpn_class_loss: 0.0699 - rpn_bbox_loss: 0.5761 - mrcnn_class_loss: 0.1643 - mrcnn_bbox_loss: 0.1598 - mrcnn_mask_loss: 0.2233"
          ],
          "name": "stdout"
        },
        {
          "output_type": "stream",
          "text": [
            "100/100 [==============================] - 400s 4s/step - loss: 1.2086 - rpn_class_loss: 0.0661 - rpn_bbox_loss: 0.5758 - mrcnn_class_loss: 0.1718 - mrcnn_bbox_loss: 0.1671 - mrcnn_mask_loss: 0.2278 - val_loss: 1.3296 - val_rpn_class_loss: 0.0544 - val_rpn_bbox_loss: 0.6794 - val_mrcnn_class_loss: 0.1244 - val_mrcnn_bbox_loss: 0.2224 - val_mrcnn_mask_loss: 0.2489\n",
            "Epoch 12/50\n",
            "100/100 [==============================] - 393s 4s/step - loss: 1.1729 - rpn_class_loss: 0.0655 - rpn_bbox_loss: 0.5558 - mrcnn_class_loss: 0.1707 - mrcnn_bbox_loss: 0.1622 - mrcnn_mask_loss: 0.2186 - val_loss: 1.3377 - val_rpn_class_loss: 0.0539 - val_rpn_bbox_loss: 0.6645 - val_mrcnn_class_loss: 0.1723 - val_mrcnn_bbox_loss: 0.2030 - val_mrcnn_mask_loss: 0.2439\n",
            "Epoch 13/50\n",
            " 28/100 [=======>......................] - ETA: 4:44 - loss: 1.1289 - rpn_class_loss: 0.0630 - rpn_bbox_loss: 0.5286 - mrcnn_class_loss: 0.1657 - mrcnn_bbox_loss: 0.1562 - mrcnn_mask_loss: 0.2153"
          ],
          "name": "stdout"
        },
        {
          "output_type": "stream",
          "text": [
            "100/100 [==============================] - 395s 4s/step - loss: 1.1711 - rpn_class_loss: 0.0627 - rpn_bbox_loss: 0.5450 - mrcnn_class_loss: 0.1712 - mrcnn_bbox_loss: 0.1675 - mrcnn_mask_loss: 0.2246 - val_loss: 1.2361 - val_rpn_class_loss: 0.0526 - val_rpn_bbox_loss: 0.6479 - val_mrcnn_class_loss: 0.1134 - val_mrcnn_bbox_loss: 0.1934 - val_mrcnn_mask_loss: 0.2288\n",
            "Epoch 14/50\n",
            "100/100 [==============================] - 392s 4s/step - loss: 1.1315 - rpn_class_loss: 0.0613 - rpn_bbox_loss: 0.5176 - mrcnn_class_loss: 0.1746 - mrcnn_bbox_loss: 0.1590 - mrcnn_mask_loss: 0.2190 - val_loss: 1.1831 - val_rpn_class_loss: 0.0514 - val_rpn_bbox_loss: 0.6358 - val_mrcnn_class_loss: 0.1259 - val_mrcnn_bbox_loss: 0.1632 - val_mrcnn_mask_loss: 0.2068\n",
            "Epoch 15/50\n",
            " 28/100 [=======>......................] - ETA: 4:38 - loss: 1.1155 - rpn_class_loss: 0.0607 - rpn_bbox_loss: 0.5054 - mrcnn_class_loss: 0.1749 - mrcnn_bbox_loss: 0.1583 - mrcnn_mask_loss: 0.2162"
          ],
          "name": "stdout"
        },
        {
          "output_type": "stream",
          "text": [
            "100/100 [==============================] - 391s 4s/step - loss: 1.1158 - rpn_class_loss: 0.0582 - rpn_bbox_loss: 0.5112 - mrcnn_class_loss: 0.1735 - mrcnn_bbox_loss: 0.1553 - mrcnn_mask_loss: 0.2176 - val_loss: 1.2012 - val_rpn_class_loss: 0.0501 - val_rpn_bbox_loss: 0.6211 - val_mrcnn_class_loss: 0.1504 - val_mrcnn_bbox_loss: 0.1638 - val_mrcnn_mask_loss: 0.2158\n",
            "Epoch 16/50\n",
            "100/100 [==============================] - 393s 4s/step - loss: 1.1034 - rpn_class_loss: 0.0572 - rpn_bbox_loss: 0.4878 - mrcnn_class_loss: 0.1742 - mrcnn_bbox_loss: 0.1605 - mrcnn_mask_loss: 0.2237 - val_loss: 1.1948 - val_rpn_class_loss: 0.0499 - val_rpn_bbox_loss: 0.6073 - val_mrcnn_class_loss: 0.1247 - val_mrcnn_bbox_loss: 0.1783 - val_mrcnn_mask_loss: 0.2346\n",
            "Epoch 17/50\n",
            " 28/100 [=======>......................] - ETA: 4:41 - loss: 1.0616 - rpn_class_loss: 0.0527 - rpn_bbox_loss: 0.4648 - mrcnn_class_loss: 0.1778 - mrcnn_bbox_loss: 0.1489 - mrcnn_mask_loss: 0.2174"
          ],
          "name": "stdout"
        },
        {
          "output_type": "stream",
          "text": [
            "100/100 [==============================] - 390s 4s/step - loss: 1.0659 - rpn_class_loss: 0.0539 - rpn_bbox_loss: 0.4723 - mrcnn_class_loss: 0.1724 - mrcnn_bbox_loss: 0.1522 - mrcnn_mask_loss: 0.2150 - val_loss: 1.2396 - val_rpn_class_loss: 0.0492 - val_rpn_bbox_loss: 0.5919 - val_mrcnn_class_loss: 0.1460 - val_mrcnn_bbox_loss: 0.1976 - val_mrcnn_mask_loss: 0.2548\n",
            "Epoch 18/50\n",
            "100/100 [==============================] - 391s 4s/step - loss: 1.0571 - rpn_class_loss: 0.0537 - rpn_bbox_loss: 0.4658 - mrcnn_class_loss: 0.1712 - mrcnn_bbox_loss: 0.1505 - mrcnn_mask_loss: 0.2159 - val_loss: 1.2885 - val_rpn_class_loss: 0.0491 - val_rpn_bbox_loss: 0.5799 - val_mrcnn_class_loss: 0.1708 - val_mrcnn_bbox_loss: 0.2260 - val_mrcnn_mask_loss: 0.2627\n",
            "Epoch 19/50\n",
            " 28/100 [=======>......................] - ETA: 4:42 - loss: 1.0539 - rpn_class_loss: 0.0556 - rpn_bbox_loss: 0.4610 - mrcnn_class_loss: 0.1731 - mrcnn_bbox_loss: 0.1476 - mrcnn_mask_loss: 0.2166"
          ],
          "name": "stdout"
        },
        {
          "output_type": "stream",
          "text": [
            "100/100 [==============================] - 392s 4s/step - loss: 1.0419 - rpn_class_loss: 0.0522 - rpn_bbox_loss: 0.4559 - mrcnn_class_loss: 0.1698 - mrcnn_bbox_loss: 0.1479 - mrcnn_mask_loss: 0.2161 - val_loss: 1.2061 - val_rpn_class_loss: 0.0492 - val_rpn_bbox_loss: 0.5705 - val_mrcnn_class_loss: 0.1440 - val_mrcnn_bbox_loss: 0.2023 - val_mrcnn_mask_loss: 0.2401\n",
            "Epoch 20/50\n",
            "100/100 [==============================] - 391s 4s/step - loss: 1.0310 - rpn_class_loss: 0.0494 - rpn_bbox_loss: 0.4356 - mrcnn_class_loss: 0.1745 - mrcnn_bbox_loss: 0.1514 - mrcnn_mask_loss: 0.2202 - val_loss: 1.1984 - val_rpn_class_loss: 0.0482 - val_rpn_bbox_loss: 0.5628 - val_mrcnn_class_loss: 0.1540 - val_mrcnn_bbox_loss: 0.2039 - val_mrcnn_mask_loss: 0.2295\n",
            "Epoch 21/50\n",
            " 28/100 [=======>......................] - ETA: 4:41 - loss: 1.0355 - rpn_class_loss: 0.0520 - rpn_bbox_loss: 0.4390 - mrcnn_class_loss: 0.1782 - mrcnn_bbox_loss: 0.1507 - mrcnn_mask_loss: 0.2157"
          ],
          "name": "stdout"
        },
        {
          "output_type": "stream",
          "text": [
            "100/100 [==============================] - 391s 4s/step - loss: 1.0345 - rpn_class_loss: 0.0526 - rpn_bbox_loss: 0.4337 - mrcnn_class_loss: 0.1767 - mrcnn_bbox_loss: 0.1535 - mrcnn_mask_loss: 0.2180 - val_loss: 1.2488 - val_rpn_class_loss: 0.0485 - val_rpn_bbox_loss: 0.5569 - val_mrcnn_class_loss: 0.1926 - val_mrcnn_bbox_loss: 0.2182 - val_mrcnn_mask_loss: 0.2327\n",
            "Epoch 22/50\n",
            "100/100 [==============================] - 391s 4s/step - loss: 0.9935 - rpn_class_loss: 0.0491 - rpn_bbox_loss: 0.4178 - mrcnn_class_loss: 0.1703 - mrcnn_bbox_loss: 0.1442 - mrcnn_mask_loss: 0.2122 - val_loss: 1.1357 - val_rpn_class_loss: 0.0482 - val_rpn_bbox_loss: 0.5461 - val_mrcnn_class_loss: 0.1083 - val_mrcnn_bbox_loss: 0.2024 - val_mrcnn_mask_loss: 0.2307\n",
            "Epoch 23/50\n",
            " 28/100 [=======>......................] - ETA: 4:37 - loss: 1.0159 - rpn_class_loss: 0.0453 - rpn_bbox_loss: 0.4263 - mrcnn_class_loss: 0.1739 - mrcnn_bbox_loss: 0.1465 - mrcnn_mask_loss: 0.2240"
          ],
          "name": "stdout"
        },
        {
          "output_type": "stream",
          "text": [
            "100/100 [==============================] - 390s 4s/step - loss: 1.0003 - rpn_class_loss: 0.0482 - rpn_bbox_loss: 0.4149 - mrcnn_class_loss: 0.1707 - mrcnn_bbox_loss: 0.1477 - mrcnn_mask_loss: 0.2187 - val_loss: 1.1661 - val_rpn_class_loss: 0.0486 - val_rpn_bbox_loss: 0.5427 - val_mrcnn_class_loss: 0.1257 - val_mrcnn_bbox_loss: 0.1987 - val_mrcnn_mask_loss: 0.2504\n",
            "Epoch 24/50\n",
            "100/100 [==============================] - 389s 4s/step - loss: 0.9830 - rpn_class_loss: 0.0484 - rpn_bbox_loss: 0.4060 - mrcnn_class_loss: 0.1658 - mrcnn_bbox_loss: 0.1471 - mrcnn_mask_loss: 0.2155 - val_loss: 1.1895 - val_rpn_class_loss: 0.0482 - val_rpn_bbox_loss: 0.5331 - val_mrcnn_class_loss: 0.1919 - val_mrcnn_bbox_loss: 0.1938 - val_mrcnn_mask_loss: 0.2226\n",
            "Epoch 25/50\n",
            " 28/100 [=======>......................] - ETA: 4:40 - loss: 1.0168 - rpn_class_loss: 0.0482 - rpn_bbox_loss: 0.4164 - mrcnn_class_loss: 0.1751 - mrcnn_bbox_loss: 0.1533 - mrcnn_mask_loss: 0.2238"
          ],
          "name": "stdout"
        },
        {
          "output_type": "stream",
          "text": [
            "100/100 [==============================] - 394s 4s/step - loss: 0.9710 - rpn_class_loss: 0.0452 - rpn_bbox_loss: 0.3947 - mrcnn_class_loss: 0.1687 - mrcnn_bbox_loss: 0.1463 - mrcnn_mask_loss: 0.2161 - val_loss: 1.1865 - val_rpn_class_loss: 0.0475 - val_rpn_bbox_loss: 0.5269 - val_mrcnn_class_loss: 0.1727 - val_mrcnn_bbox_loss: 0.1981 - val_mrcnn_mask_loss: 0.2413\n",
            "Epoch 26/50\n",
            "100/100 [==============================] - 395s 4s/step - loss: 0.9578 - rpn_class_loss: 0.0458 - rpn_bbox_loss: 0.3893 - mrcnn_class_loss: 0.1622 - mrcnn_bbox_loss: 0.1456 - mrcnn_mask_loss: 0.2149 - val_loss: 1.1093 - val_rpn_class_loss: 0.0482 - val_rpn_bbox_loss: 0.5174 - val_mrcnn_class_loss: 0.1324 - val_mrcnn_bbox_loss: 0.1858 - val_mrcnn_mask_loss: 0.2254\n",
            "Epoch 27/50\n",
            " 28/100 [=======>......................] - ETA: 4:39 - loss: 0.9559 - rpn_class_loss: 0.0455 - rpn_bbox_loss: 0.3871 - mrcnn_class_loss: 0.1642 - mrcnn_bbox_loss: 0.1436 - mrcnn_mask_loss: 0.2155"
          ],
          "name": "stdout"
        },
        {
          "output_type": "stream",
          "text": [
            "100/100 [==============================] - 393s 4s/step - loss: 0.9499 - rpn_class_loss: 0.0451 - rpn_bbox_loss: 0.3875 - mrcnn_class_loss: 0.1615 - mrcnn_bbox_loss: 0.1433 - mrcnn_mask_loss: 0.2125 - val_loss: 1.1410 - val_rpn_class_loss: 0.0486 - val_rpn_bbox_loss: 0.5127 - val_mrcnn_class_loss: 0.1350 - val_mrcnn_bbox_loss: 0.2014 - val_mrcnn_mask_loss: 0.2432\n",
            "Epoch 28/50\n",
            "100/100 [==============================] - 391s 4s/step - loss: 0.9590 - rpn_class_loss: 0.0469 - rpn_bbox_loss: 0.3885 - mrcnn_class_loss: 0.1616 - mrcnn_bbox_loss: 0.1468 - mrcnn_mask_loss: 0.2153 - val_loss: 1.0438 - val_rpn_class_loss: 0.0479 - val_rpn_bbox_loss: 0.5033 - val_mrcnn_class_loss: 0.1077 - val_mrcnn_bbox_loss: 0.1733 - val_mrcnn_mask_loss: 0.2116\n",
            "Epoch 29/50\n",
            " 28/100 [=======>......................] - ETA: 4:23 - loss: 0.8811 - rpn_class_loss: 0.0386 - rpn_bbox_loss: 0.3485 - mrcnn_class_loss: 0.1483 - mrcnn_bbox_loss: 0.1373 - mrcnn_mask_loss: 0.2085"
          ],
          "name": "stdout"
        },
        {
          "output_type": "stream",
          "text": [
            "100/100 [==============================] - 382s 4s/step - loss: 0.9199 - rpn_class_loss: 0.0427 - rpn_bbox_loss: 0.3654 - mrcnn_class_loss: 0.1551 - mrcnn_bbox_loss: 0.1419 - mrcnn_mask_loss: 0.2148 - val_loss: 1.1143 - val_rpn_class_loss: 0.0479 - val_rpn_bbox_loss: 0.4986 - val_mrcnn_class_loss: 0.1468 - val_mrcnn_bbox_loss: 0.1722 - val_mrcnn_mask_loss: 0.2488\n",
            "Epoch 30/50\n",
            "100/100 [==============================] - 380s 4s/step - loss: 0.9188 - rpn_class_loss: 0.0421 - rpn_bbox_loss: 0.3616 - mrcnn_class_loss: 0.1534 - mrcnn_bbox_loss: 0.1441 - mrcnn_mask_loss: 0.2177 - val_loss: 1.1041 - val_rpn_class_loss: 0.0481 - val_rpn_bbox_loss: 0.4965 - val_mrcnn_class_loss: 0.1287 - val_mrcnn_bbox_loss: 0.2085 - val_mrcnn_mask_loss: 0.2223\n",
            "Epoch 31/50\n",
            " 28/100 [=======>......................] - ETA: 4:45 - loss: 0.9247 - rpn_class_loss: 0.0405 - rpn_bbox_loss: 0.3500 - mrcnn_class_loss: 0.1540 - mrcnn_bbox_loss: 0.1514 - mrcnn_mask_loss: 0.2287"
          ],
          "name": "stdout"
        },
        {
          "output_type": "stream",
          "text": [
            "100/100 [==============================] - 404s 4s/step - loss: 0.9293 - rpn_class_loss: 0.0421 - rpn_bbox_loss: 0.3515 - mrcnn_class_loss: 0.1638 - mrcnn_bbox_loss: 0.1490 - mrcnn_mask_loss: 0.2229 - val_loss: 1.0959 - val_rpn_class_loss: 0.0478 - val_rpn_bbox_loss: 0.4906 - val_mrcnn_class_loss: 0.1619 - val_mrcnn_bbox_loss: 0.1845 - val_mrcnn_mask_loss: 0.2109\n",
            "Epoch 32/50\n",
            "100/100 [==============================] - 411s 4s/step - loss: 0.9254 - rpn_class_loss: 0.0427 - rpn_bbox_loss: 0.3699 - mrcnn_class_loss: 0.1528 - mrcnn_bbox_loss: 0.1444 - mrcnn_mask_loss: 0.2156 - val_loss: 1.2773 - val_rpn_class_loss: 0.0484 - val_rpn_bbox_loss: 0.4884 - val_mrcnn_class_loss: 0.1374 - val_mrcnn_bbox_loss: 0.2964 - val_mrcnn_mask_loss: 0.3067\n",
            "Epoch 33/50\n",
            " 28/100 [=======>......................] - ETA: 4:53 - loss: 0.8869 - rpn_class_loss: 0.0397 - rpn_bbox_loss: 0.3563 - mrcnn_class_loss: 0.1462 - mrcnn_bbox_loss: 0.1378 - mrcnn_mask_loss: 0.2068"
          ],
          "name": "stdout"
        },
        {
          "output_type": "stream",
          "text": [
            "100/100 [==============================] - 409s 4s/step - loss: 0.9184 - rpn_class_loss: 0.0423 - rpn_bbox_loss: 0.3603 - mrcnn_class_loss: 0.1563 - mrcnn_bbox_loss: 0.1450 - mrcnn_mask_loss: 0.2145 - val_loss: 1.0264 - val_rpn_class_loss: 0.0480 - val_rpn_bbox_loss: 0.4871 - val_mrcnn_class_loss: 0.0865 - val_mrcnn_bbox_loss: 0.1844 - val_mrcnn_mask_loss: 0.2203\n",
            "Epoch 34/50\n",
            "100/100 [==============================] - 408s 4s/step - loss: 0.8893 - rpn_class_loss: 0.0407 - rpn_bbox_loss: 0.3462 - mrcnn_class_loss: 0.1546 - mrcnn_bbox_loss: 0.1376 - mrcnn_mask_loss: 0.2101 - val_loss: 1.0378 - val_rpn_class_loss: 0.0480 - val_rpn_bbox_loss: 0.4819 - val_mrcnn_class_loss: 0.1170 - val_mrcnn_bbox_loss: 0.1803 - val_mrcnn_mask_loss: 0.2106\n",
            "Epoch 35/50\n",
            " 28/100 [=======>......................] - ETA: 4:57 - loss: 0.8721 - rpn_class_loss: 0.0420 - rpn_bbox_loss: 0.3285 - mrcnn_class_loss: 0.1470 - mrcnn_bbox_loss: 0.1424 - mrcnn_mask_loss: 0.2122"
          ],
          "name": "stdout"
        },
        {
          "output_type": "stream",
          "text": [
            "100/100 [==============================] - 413s 4s/step - loss: 0.8993 - rpn_class_loss: 0.0419 - rpn_bbox_loss: 0.3435 - mrcnn_class_loss: 0.1546 - mrcnn_bbox_loss: 0.1422 - mrcnn_mask_loss: 0.2171 - val_loss: 1.1713 - val_rpn_class_loss: 0.0480 - val_rpn_bbox_loss: 0.4823 - val_mrcnn_class_loss: 0.1844 - val_mrcnn_bbox_loss: 0.2100 - val_mrcnn_mask_loss: 0.2467\n",
            "Epoch 36/50\n",
            "100/100 [==============================] - 409s 4s/step - loss: 0.9036 - rpn_class_loss: 0.0411 - rpn_bbox_loss: 0.3485 - mrcnn_class_loss: 0.1518 - mrcnn_bbox_loss: 0.1441 - mrcnn_mask_loss: 0.2181 - val_loss: 0.9508 - val_rpn_class_loss: 0.0473 - val_rpn_bbox_loss: 0.4728 - val_mrcnn_class_loss: 0.1170 - val_mrcnn_bbox_loss: 0.1284 - val_mrcnn_mask_loss: 0.1853\n",
            "Epoch 37/50\n",
            " 28/100 [=======>......................] - ETA: 4:57 - loss: 0.8941 - rpn_class_loss: 0.0422 - rpn_bbox_loss: 0.3337 - mrcnn_class_loss: 0.1602 - mrcnn_bbox_loss: 0.1400 - mrcnn_mask_loss: 0.2179"
          ],
          "name": "stdout"
        },
        {
          "output_type": "stream",
          "text": [
            "100/100 [==============================] - 409s 4s/step - loss: 0.8766 - rpn_class_loss: 0.0399 - rpn_bbox_loss: 0.3372 - mrcnn_class_loss: 0.1501 - mrcnn_bbox_loss: 0.1365 - mrcnn_mask_loss: 0.2128 - val_loss: 1.1879 - val_rpn_class_loss: 0.0473 - val_rpn_bbox_loss: 0.4746 - val_mrcnn_class_loss: 0.1441 - val_mrcnn_bbox_loss: 0.2501 - val_mrcnn_mask_loss: 0.2717\n",
            "Epoch 38/50\n",
            "100/100 [==============================] - 412s 4s/step - loss: 0.8990 - rpn_class_loss: 0.0415 - rpn_bbox_loss: 0.3485 - mrcnn_class_loss: 0.1505 - mrcnn_bbox_loss: 0.1413 - mrcnn_mask_loss: 0.2172 - val_loss: 1.1068 - val_rpn_class_loss: 0.0480 - val_rpn_bbox_loss: 0.4675 - val_mrcnn_class_loss: 0.1274 - val_mrcnn_bbox_loss: 0.2123 - val_mrcnn_mask_loss: 0.2516\n",
            "Epoch 39/50\n",
            " 28/100 [=======>......................] - ETA: 4:51 - loss: 0.8724 - rpn_class_loss: 0.0365 - rpn_bbox_loss: 0.3285 - mrcnn_class_loss: 0.1563 - mrcnn_bbox_loss: 0.1412 - mrcnn_mask_loss: 0.2098"
          ],
          "name": "stdout"
        },
        {
          "output_type": "stream",
          "text": [
            "100/100 [==============================] - 413s 4s/step - loss: 0.8693 - rpn_class_loss: 0.0386 - rpn_bbox_loss: 0.3284 - mrcnn_class_loss: 0.1569 - mrcnn_bbox_loss: 0.1365 - mrcnn_mask_loss: 0.2089 - val_loss: 1.1569 - val_rpn_class_loss: 0.0474 - val_rpn_bbox_loss: 0.4690 - val_mrcnn_class_loss: 0.1449 - val_mrcnn_bbox_loss: 0.2204 - val_mrcnn_mask_loss: 0.2752\n",
            "Epoch 40/50\n",
            "100/100 [==============================] - 414s 4s/step - loss: 0.8871 - rpn_class_loss: 0.0397 - rpn_bbox_loss: 0.3369 - mrcnn_class_loss: 0.1545 - mrcnn_bbox_loss: 0.1404 - mrcnn_mask_loss: 0.2156 - val_loss: 1.1795 - val_rpn_class_loss: 0.0476 - val_rpn_bbox_loss: 0.4671 - val_mrcnn_class_loss: 0.1560 - val_mrcnn_bbox_loss: 0.2426 - val_mrcnn_mask_loss: 0.2662\n",
            "Epoch 41/50\n",
            " 28/100 [=======>......................] - ETA: 4:50 - loss: 0.8835 - rpn_class_loss: 0.0413 - rpn_bbox_loss: 0.3339 - mrcnn_class_loss: 0.1468 - mrcnn_bbox_loss: 0.1435 - mrcnn_mask_loss: 0.2180"
          ],
          "name": "stdout"
        },
        {
          "output_type": "stream",
          "text": [
            "100/100 [==============================] - 408s 4s/step - loss: 0.8623 - rpn_class_loss: 0.0378 - rpn_bbox_loss: 0.3289 - mrcnn_class_loss: 0.1421 - mrcnn_bbox_loss: 0.1389 - mrcnn_mask_loss: 0.2146 - val_loss: 1.1098 - val_rpn_class_loss: 0.0477 - val_rpn_bbox_loss: 0.4619 - val_mrcnn_class_loss: 0.1549 - val_mrcnn_bbox_loss: 0.2042 - val_mrcnn_mask_loss: 0.2411\n",
            "Epoch 42/50\n",
            "100/100 [==============================] - 410s 4s/step - loss: 0.8587 - rpn_class_loss: 0.0387 - rpn_bbox_loss: 0.3195 - mrcnn_class_loss: 0.1447 - mrcnn_bbox_loss: 0.1389 - mrcnn_mask_loss: 0.2170 - val_loss: 1.0479 - val_rpn_class_loss: 0.0476 - val_rpn_bbox_loss: 0.4590 - val_mrcnn_class_loss: 0.1428 - val_mrcnn_bbox_loss: 0.1723 - val_mrcnn_mask_loss: 0.2262\n",
            "Epoch 43/50\n",
            " 28/100 [=======>......................] - ETA: 4:55 - loss: 0.8782 - rpn_class_loss: 0.0378 - rpn_bbox_loss: 0.3453 - mrcnn_class_loss: 0.1515 - mrcnn_bbox_loss: 0.1342 - mrcnn_mask_loss: 0.2094"
          ],
          "name": "stdout"
        },
        {
          "output_type": "stream",
          "text": [
            "100/100 [==============================] - 413s 4s/step - loss: 0.8727 - rpn_class_loss: 0.0368 - rpn_bbox_loss: 0.3299 - mrcnn_class_loss: 0.1514 - mrcnn_bbox_loss: 0.1390 - mrcnn_mask_loss: 0.2156 - val_loss: 1.0513 - val_rpn_class_loss: 0.0468 - val_rpn_bbox_loss: 0.4570 - val_mrcnn_class_loss: 0.1078 - val_mrcnn_bbox_loss: 0.2043 - val_mrcnn_mask_loss: 0.2355\n",
            "Epoch 44/50\n",
            "100/100 [==============================] - 448s 4s/step - loss: 0.8402 - rpn_class_loss: 0.0386 - rpn_bbox_loss: 0.3127 - mrcnn_class_loss: 0.1452 - mrcnn_bbox_loss: 0.1321 - mrcnn_mask_loss: 0.2117 - val_loss: 1.0572 - val_rpn_class_loss: 0.0472 - val_rpn_bbox_loss: 0.4552 - val_mrcnn_class_loss: 0.1317 - val_mrcnn_bbox_loss: 0.1994 - val_mrcnn_mask_loss: 0.2236\n",
            "Epoch 45/50\n",
            " 28/100 [=======>......................] - ETA: 5:12 - loss: 0.8318 - rpn_class_loss: 0.0366 - rpn_bbox_loss: 0.3078 - mrcnn_class_loss: 0.1486 - mrcnn_bbox_loss: 0.1288 - mrcnn_mask_loss: 0.2100"
          ],
          "name": "stdout"
        },
        {
          "output_type": "stream",
          "text": [
            "100/100 [==============================] - 443s 4s/step - loss: 0.8357 - rpn_class_loss: 0.0369 - rpn_bbox_loss: 0.3141 - mrcnn_class_loss: 0.1394 - mrcnn_bbox_loss: 0.1325 - mrcnn_mask_loss: 0.2128 - val_loss: 1.0010 - val_rpn_class_loss: 0.0473 - val_rpn_bbox_loss: 0.4528 - val_mrcnn_class_loss: 0.1378 - val_mrcnn_bbox_loss: 0.1525 - val_mrcnn_mask_loss: 0.2106\n",
            "Epoch 46/50\n",
            "100/100 [==============================] - 445s 4s/step - loss: 0.8522 - rpn_class_loss: 0.0368 - rpn_bbox_loss: 0.3190 - mrcnn_class_loss: 0.1471 - mrcnn_bbox_loss: 0.1374 - mrcnn_mask_loss: 0.2119 - val_loss: 1.1108 - val_rpn_class_loss: 0.0473 - val_rpn_bbox_loss: 0.4510 - val_mrcnn_class_loss: 0.1379 - val_mrcnn_bbox_loss: 0.2196 - val_mrcnn_mask_loss: 0.2550\n",
            "Epoch 47/50\n",
            " 28/100 [=======>......................] - ETA: 6:00 - loss: 0.8490 - rpn_class_loss: 0.0375 - rpn_bbox_loss: 0.3119 - mrcnn_class_loss: 0.1520 - mrcnn_bbox_loss: 0.1374 - mrcnn_mask_loss: 0.2102"
          ],
          "name": "stdout"
        },
        {
          "output_type": "stream",
          "text": [
            "100/100 [==============================] - 465s 5s/step - loss: 0.8417 - rpn_class_loss: 0.0364 - rpn_bbox_loss: 0.3138 - mrcnn_class_loss: 0.1481 - mrcnn_bbox_loss: 0.1332 - mrcnn_mask_loss: 0.2101 - val_loss: 0.9965 - val_rpn_class_loss: 0.0469 - val_rpn_bbox_loss: 0.4486 - val_mrcnn_class_loss: 0.1175 - val_mrcnn_bbox_loss: 0.1558 - val_mrcnn_mask_loss: 0.2278\n",
            "Epoch 48/50\n",
            "100/100 [==============================] - 421s 4s/step - loss: 0.8306 - rpn_class_loss: 0.0362 - rpn_bbox_loss: 0.3087 - mrcnn_class_loss: 0.1395 - mrcnn_bbox_loss: 0.1335 - mrcnn_mask_loss: 0.2127 - val_loss: 1.1153 - val_rpn_class_loss: 0.0463 - val_rpn_bbox_loss: 0.4475 - val_mrcnn_class_loss: 0.1460 - val_mrcnn_bbox_loss: 0.2124 - val_mrcnn_mask_loss: 0.2631\n",
            "Epoch 49/50\n",
            " 28/100 [=======>......................] - ETA: 5:27 - loss: 0.8449 - rpn_class_loss: 0.0381 - rpn_bbox_loss: 0.3121 - mrcnn_class_loss: 0.1475 - mrcnn_bbox_loss: 0.1342 - mrcnn_mask_loss: 0.2130"
          ],
          "name": "stdout"
        },
        {
          "output_type": "stream",
          "text": [
            "100/100 [==============================] - 444s 4s/step - loss: 0.8473 - rpn_class_loss: 0.0369 - rpn_bbox_loss: 0.3098 - mrcnn_class_loss: 0.1487 - mrcnn_bbox_loss: 0.1369 - mrcnn_mask_loss: 0.2149 - val_loss: 1.0692 - val_rpn_class_loss: 0.0468 - val_rpn_bbox_loss: 0.4455 - val_mrcnn_class_loss: 0.1283 - val_mrcnn_bbox_loss: 0.1842 - val_mrcnn_mask_loss: 0.2644\n",
            "Epoch 50/50\n",
            "100/100 [==============================] - 445s 4s/step - loss: 0.8348 - rpn_class_loss: 0.0347 - rpn_bbox_loss: 0.3092 - mrcnn_class_loss: 0.1478 - mrcnn_bbox_loss: 0.1318 - mrcnn_mask_loss: 0.2114 - val_loss: 1.0829 - val_rpn_class_loss: 0.0458 - val_rpn_bbox_loss: 0.4417 - val_mrcnn_class_loss: 0.1269 - val_mrcnn_bbox_loss: 0.2100 - val_mrcnn_mask_loss: 0.2585\n"
          ],
          "name": "stdout"
        }
      ]
    },
    {
      "metadata": {
        "id": "ESXDFFNTikNO",
        "colab_type": "code",
        "colab": {
          "autoexec": {
            "startup": false,
            "wait_interval": 0
          }
        }
      },
      "cell_type": "code",
      "source": [
        "# Save weights\n",
        "# Typically not needed because callbacks save after every epoch\n",
        "# Uncomment to save manually\n",
        "model_path = os.path.join(MODEL_DIR, \"mask_rcnn_shapes.h5\")\n",
        "model.keras_model.save_weights(model_path)"
      ],
      "execution_count": 0,
      "outputs": []
    },
    {
      "metadata": {
        "id": "crfmuM0BiVGr",
        "colab_type": "code",
        "colab": {
          "autoexec": {
            "startup": false,
            "wait_interval": 0
          },
          "output_extras": [
            {
              "item_id": 1
            }
          ],
          "base_uri": "https://localhost:8080/",
          "height": 34
        },
        "outputId": "4c46edf3-7615-4bfc-9bc1-b9975be58e5e",
        "executionInfo": {
          "status": "ok",
          "timestamp": 1522220807013,
          "user_tz": 300,
          "elapsed": 13127,
          "user": {
            "displayName": "Chen Zeng",
            "photoUrl": "//lh6.googleusercontent.com/-7Obng4r7Tp8/AAAAAAAAAAI/AAAAAAAAAKM/FYaQnazg2r4/s50-c-k-no/photo.jpg",
            "userId": "110667679279915623812"
          }
        }
      },
      "cell_type": "code",
      "source": [
        "# Detection\n",
        "class InferenceConfig(KaggleConfig):\n",
        "    GPU_COUNT = 1\n",
        "    IMAGES_PER_GPU = 1\n",
        "\n",
        "inference_config = InferenceConfig()\n",
        "\n",
        "# Recreate the model in inference mode\n",
        "model = modellib.MaskRCNN(mode=\"inference\", \n",
        "                          config=inference_config,\n",
        "                          model_dir=MODEL_DIR)\n",
        "\n",
        "# Get path to saved weights\n",
        "# Either set a specific path or find last trained weights\n",
        "# model_path = os.path.join(ROOT_DIR, \".h5 file name here\")\n",
        "model_path = model.find_last()[1]\n",
        "\n",
        "# Load trained weights (fill in path to trained weights here)\n",
        "assert model_path != \"\", \"Provide path to trained weights\"\n",
        "print(\"Loading weights from \", model_path)\n",
        "model.load_weights(model_path, by_name=True)"
      ],
      "execution_count": 13,
      "outputs": [
        {
          "output_type": "stream",
          "text": [
            "Loading weights from  /content/logs/shapes20180328T0118/mask_rcnn_shapes_0050.h5\n"
          ],
          "name": "stdout"
        }
      ]
    },
    {
      "metadata": {
        "id": "GQosj2BUtEaF",
        "colab_type": "code",
        "colab": {
          "autoexec": {
            "startup": false,
            "wait_interval": 0
          }
        }
      },
      "cell_type": "code",
      "source": [
        "# # Test on a random image\n",
        "# image_id = random.choice(dataset_val.image_ids)\n",
        "\n",
        "# original_image, image_meta, gt_class_id, gt_bbox, gt_mask =\\\n",
        "#     modellib.load_image_gt(dataset_val, inference_config, \n",
        "#                            image_id, use_mini_mask=False)\n",
        "\n",
        "# # Ground truth\n",
        "# log(\"original_image\", original_image)\n",
        "# log(\"image_meta\", image_meta)\n",
        "# log(\"gt_class_id\", gt_class_id)\n",
        "# log(\"gt_bbox\", gt_bbox)\n",
        "# log(\"gt_mask\", gt_mask)\n",
        "\n",
        "# visualize.display_instances(original_image, gt_bbox, gt_mask, gt_class_id, \n",
        "#                             dataset_train.class_names, figsize=(8, 8))"
      ],
      "execution_count": 0,
      "outputs": []
    },
    {
      "metadata": {
        "id": "dkpUC7GttEaH",
        "colab_type": "code",
        "colab": {
          "autoexec": {
            "startup": false,
            "wait_interval": 0
          }
        }
      },
      "cell_type": "code",
      "source": [
        "# results = model.detect([original_image], verbose=1)\n",
        "\n",
        "# r = results[0]\n",
        "# visualize.display_instances(original_image, r['rois'], r['masks'], r['class_ids'], \n",
        "#                             dataset_val.class_names, r['scores'], ax=get_ax())\n",
        "\n",
        "# # r['masks'].shape = 256*256*num\n",
        "# # plt.imshow(r['masks'][:,:,0])"
      ],
      "execution_count": 0,
      "outputs": []
    },
    {
      "metadata": {
        "id": "yeV7kclMtEaK",
        "colab_type": "code",
        "colab": {
          "autoexec": {
            "startup": false,
            "wait_interval": 0
          }
        }
      },
      "cell_type": "code",
      "source": [
        "# # Compute VOC-Style mAP @ IoU=0.5\n",
        "# # Running on 10 images. Increase for better accuracy.\n",
        "# image_ids = np.random.choice(dataset_val.image_ids, 10)\n",
        "# APs = []\n",
        "# for image_id in image_ids:\n",
        "#     # Load image and ground truth data\n",
        "#     image, image_meta, gt_class_id, gt_bbox, gt_mask =\\\n",
        "#         modellib.load_image_gt(dataset_val, inference_config,\n",
        "#                                image_id, use_mini_mask=False)\n",
        "#     molded_images = np.expand_dims(modellib.mold_image(image, inference_config), 0)\n",
        "#     # Run object detection\n",
        "#     results = model.detect([image], verbose=0)\n",
        "#     r = results[0]\n",
        "#     # Compute AP\n",
        "#     AP, precisions, recalls, overlaps =\\\n",
        "#         utils.compute_ap(gt_bbox, gt_class_id, gt_mask,\n",
        "#                          r[\"rois\"], r[\"class_ids\"], r[\"scores\"], r['masks'])\n",
        "#     APs.append(AP)\n",
        "    \n",
        "# print(\"mAP: \", np.mean(APs))"
      ],
      "execution_count": 0,
      "outputs": []
    },
    {
      "metadata": {
        "id": "tj5y4Bps8Ptj",
        "colab_type": "code",
        "colab": {
          "autoexec": {
            "startup": false,
            "wait_interval": 0
          }
        }
      },
      "cell_type": "code",
      "source": [
        "# rle method-1\n",
        "# Run-length encoding stolen from https://www.kaggle.com/rakhlin/fast-run-length-encoding-python\n",
        "def rle_encoding(x):\n",
        "    dots = np.where(x.T.flatten() == 1)[0]\n",
        "    run_lengths = []\n",
        "    prev = -2\n",
        "    for b in dots:\n",
        "        if (b>prev+1): run_lengths.extend((b + 1, 0))\n",
        "        run_lengths[-1] += 1\n",
        "        prev = b\n",
        "    return run_lengths\n",
        "\n",
        "def prob_to_rles(x, cutoff=0.5):\n",
        "    lab_img = label(x > cutoff)\n",
        "    for i in range(1, lab_img.max() + 1):\n",
        "        yield rle_encoding(lab_img == i)\n",
        "        \n",
        "# Iterate over the test IDs and generate run-length encodings for each seperate mask identified by skimage\n",
        "def mask_to_rle(img_id, mask, test_ids, rles):\n",
        "    rle = list(prob_to_rles(mask))\n",
        "    rles.extend(rle)\n",
        "    test_ids.extend([img_id] * len(rle))\n",
        "    return test_ids,rles"
      ],
      "execution_count": 0,
      "outputs": []
    },
    {
      "metadata": {
        "id": "4uU0jSq8tEaQ",
        "colab_type": "code",
        "colab": {
          "autoexec": {
            "startup": false,
            "wait_interval": 0
          },
          "output_extras": [
            {
              "item_id": 2
            }
          ],
          "base_uri": "https://localhost:8080/",
          "height": 51
        },
        "outputId": "95d2c1ef-3d84-430b-b306-2a577e235ab7",
        "executionInfo": {
          "status": "ok",
          "timestamp": 1522221142778,
          "user_tz": 300,
          "elapsed": 25569,
          "user": {
            "displayName": "Chen Zeng",
            "photoUrl": "//lh6.googleusercontent.com/-7Obng4r7Tp8/AAAAAAAAAAI/AAAAAAAAAKM/FYaQnazg2r4/s50-c-k-no/photo.jpg",
            "userId": "110667679279915623812"
          }
        }
      },
      "cell_type": "code",
      "source": [
        "test_ids = []\n",
        "rles = []\n",
        "\n",
        "for image_id in dataset_test.image_ids:\n",
        "    img_id = dataset_test.img_ids[image_id]\n",
        "    image = dataset_test.load_image(image_id)\n",
        "    molded_images = np.expand_dims(modellib.mold_image(image, inference_config), 0)\n",
        "    # Run object detection\n",
        "    results = model.detect([image], verbose=0)\n",
        "    r = results[0]\n",
        "    mask = r['masks'].max(axis=2)\n",
        "    test_ids, rles = mask_to_rle(img_id, mask, test_ids, rles)\n",
        "\n",
        "saved_file = 'rcnn-1.csv'    \n",
        "\n",
        "print (len(list(set(test_ids))))\n",
        "\n",
        "# Create submission DataFrame\n",
        "sub = pd.DataFrame()\n",
        "sub['ImageId'] = test_ids\n",
        "sub['EncodedPixels'] = pd.Series(rles).apply(lambda x: ' '.join(str(y) for y in x))\n",
        "sub.to_csv(saved_file, index=False)\n",
        "\n",
        "# Install the PyDrive wrapper & import libraries.\n",
        "# This only needs to be done once in a notebook.\n",
        "!pip install -U -q PyDrive\n",
        "from pydrive.auth import GoogleAuth\n",
        "from pydrive.drive import GoogleDrive\n",
        "from google.colab import auth\n",
        "from oauth2client.client import GoogleCredentials\n",
        "\n",
        "# Authenticate and create the PyDrive client.\n",
        "# This only needs to be done once in a notebook.\n",
        "auth.authenticate_user()\n",
        "gauth = GoogleAuth()\n",
        "gauth.credentials = GoogleCredentials.get_application_default()\n",
        "drive = GoogleDrive(gauth)\n",
        "\n",
        "# Create & upload a file.\n",
        "uploaded = drive.CreateFile({'title': saved_file})\n",
        "uploaded.SetContentFile(saved_file)\n",
        "uploaded.Upload()\n",
        "print('Uploaded file with ID {}'.format(uploaded.get('id')))\n",
        "# 4/AACG6-C0U8VukJ2_YnpV2e6QZ59968sOM1sdmryFRHG8oWfN3oS9DDE"
      ],
      "execution_count": 17,
      "outputs": [
        {
          "output_type": "stream",
          "text": [
            "65\n",
            "Uploaded file with ID 1ZbxrpKzPo0uzD7wSWzj3NOK0GXuZOC2R\n"
          ],
          "name": "stdout"
        }
      ]
    },
    {
      "metadata": {
        "id": "eFNidQPd7Vbu",
        "colab_type": "code",
        "colab": {
          "autoexec": {
            "startup": false,
            "wait_interval": 0
          }
        }
      },
      "cell_type": "code",
      "source": [
        "# rle method-2\n",
        "def numpy2encoding_no_overlap2(predicts, img_id):\n",
        "    sum_predicts = np.sum(predicts, axis=2)\n",
        "    rows, cols = np.where(sum_predicts>=2)\n",
        "    \n",
        "    for i in zip(rows, cols):\n",
        "        instance_indicies = np.where(np.any(predicts[i[0],i[1],:]))[0]\n",
        "        highest = instance_indicies[0]\n",
        "        predicts[i[0],i[1],:] = predicts[i[0],i[1],:]*0\n",
        "        predicts[i[0],i[1],highest] = 1\n",
        "    \n",
        "    ImageId = []\n",
        "    EncodedPixels = []\n",
        "    for i in range(predicts.shape[2]): \n",
        "        rle = run_length_encoding(predicts[:,:,i])\n",
        "        if len(rle)>0:\n",
        "            ImageId.append(img_id)\n",
        "            EncodedPixels.append(rle)    \n",
        "    return ImageId, EncodedPixels\n",
        "\n",
        "def run_length_encoding(x):\n",
        "    dots = np.where(x.T.flatten() == 1)[0]\n",
        "    run_lengths = []\n",
        "    prev = -2\n",
        "    for b in dots:\n",
        "        if (b>prev+1): run_lengths.extend((b + 1, 0))\n",
        "        run_lengths[-1] += 1\n",
        "        prev = b\n",
        "    run_lengths = ' '.join([str(r) for r in run_lengths])\n",
        "    return run_lengths"
      ],
      "execution_count": 0,
      "outputs": []
    },
    {
      "metadata": {
        "id": "a3-GcgAC7Wm6",
        "colab_type": "code",
        "colab": {
          "autoexec": {
            "startup": false,
            "wait_interval": 0
          },
          "output_extras": [
            {
              "item_id": 2
            }
          ],
          "base_uri": "https://localhost:8080/",
          "height": 51
        },
        "outputId": "69331bb4-f9fb-4b08-bbe5-505148346d43",
        "executionInfo": {
          "status": "ok",
          "timestamp": 1522221183640,
          "user_tz": 300,
          "elapsed": 26035,
          "user": {
            "displayName": "Chen Zeng",
            "photoUrl": "//lh6.googleusercontent.com/-7Obng4r7Tp8/AAAAAAAAAAI/AAAAAAAAAKM/FYaQnazg2r4/s50-c-k-no/photo.jpg",
            "userId": "110667679279915623812"
          }
        }
      },
      "cell_type": "code",
      "source": [
        "ImageId = []\n",
        "EncodedPixels = []\n",
        "\n",
        "for image_id in dataset_test.image_ids:\n",
        "    img_id = dataset_test.img_ids[image_id]\n",
        "    image = dataset_test.load_image(image_id)\n",
        "    results = model.detect([image], verbose=0)\n",
        "    r = results[0]\n",
        "#     idx = utils.non_max_suppression(r['rois'], r['scores'], 0.2)\n",
        "#     ImageId_batch, EncodedPixels_batch = numpy2encoding_no_overlap2(r['masks'][idx], img_id)\n",
        "    ImageId_batch, EncodedPixels_batch = numpy2encoding_no_overlap2(r['masks'], img_id)\n",
        "    ImageId += ImageId_batch\n",
        "    EncodedPixels += EncodedPixels_batch\n",
        "    \n",
        "saved_file = 'rcnn-3.csv'    \n",
        "\n",
        "print (len(list(set(ImageId))))\n",
        "\n",
        "# Create submission DataFrame\n",
        "sub = pd.DataFrame()\n",
        "sub['ImageId'] = ImageId\n",
        "# sub['EncodedPixels'] = pd.Series(EncodedPixels).apply(lambda x: ''.join(str(y) for y in x))\n",
        "sub['EncodedPixels'] = EncodedPixels\n",
        "sub.to_csv(saved_file, index=False)\n",
        "\n",
        "# Install the PyDrive wrapper & import libraries.\n",
        "# This only needs to be done once in a notebook.\n",
        "!pip install -U -q PyDrive\n",
        "from pydrive.auth import GoogleAuth\n",
        "from pydrive.drive import GoogleDrive\n",
        "from google.colab import auth\n",
        "from oauth2client.client import GoogleCredentials\n",
        "\n",
        "# Authenticate and create the PyDrive client.\n",
        "# This only needs to be done once in a notebook.\n",
        "auth.authenticate_user()\n",
        "gauth = GoogleAuth()\n",
        "gauth.credentials = GoogleCredentials.get_application_default()\n",
        "drive = GoogleDrive(gauth)\n",
        "\n",
        "# Create & upload a file.\n",
        "uploaded = drive.CreateFile({'title': saved_file})\n",
        "uploaded.SetContentFile(saved_file)\n",
        "uploaded.Upload()\n",
        "print('Uploaded file with ID {}'.format(uploaded.get('id')))"
      ],
      "execution_count": 19,
      "outputs": [
        {
          "output_type": "stream",
          "text": [
            "65\n",
            "Uploaded file with ID 1BKLmdohYWLySRC1rCRNBEwk5GaId0tBU\n"
          ],
          "name": "stdout"
        }
      ]
    },
    {
      "metadata": {
        "id": "uW0WMPaidMGX",
        "colab_type": "code",
        "colab": {
          "autoexec": {
            "startup": false,
            "wait_interval": 0
          },
          "output_extras": [
            {
              "item_id": 2
            }
          ],
          "base_uri": "https://localhost:8080/",
          "height": 153
        },
        "outputId": "7054077b-0a97-42a2-acff-6def60246e4c",
        "executionInfo": {
          "status": "ok",
          "timestamp": 1522221324658,
          "user_tz": 300,
          "elapsed": 6478,
          "user": {
            "displayName": "Chen Zeng",
            "photoUrl": "//lh6.googleusercontent.com/-7Obng4r7Tp8/AAAAAAAAAAI/AAAAAAAAAKM/FYaQnazg2r4/s50-c-k-no/photo.jpg",
            "userId": "110667679279915623812"
          }
        }
      },
      "cell_type": "code",
      "source": [
        "# Save model to google drive\n",
        "!ls\n",
        "\n",
        "saved_file = 'mask_rcnn_coco.h5'\n",
        "\n",
        "# Create & upload a file.\n",
        "uploaded = drive.CreateFile({'title': saved_file})\n",
        "uploaded.SetContentFile(saved_file)\n",
        "uploaded.Upload()\n",
        "print('Uploaded file with ID {}'.format(uploaded.get('id')))"
      ],
      "execution_count": 21,
      "outputs": [
        {
          "output_type": "stream",
          "text": [
            "assets\t\t    inspect_model.ipynb    __pycache__\tstage1_test\r\n",
            "coco.py\t\t    inspect_weights.ipynb  rcnn-1.csv\tstage1_test.zip\r\n",
            "config.py\t    LICENSE\t\t   rcnn-2.csv\tstage1_train\r\n",
            "datalab\t\t    logs\t\t   rcnn-3.csv\tstage1_train.zip\r\n",
            "demo.ipynb\t    mask_rcnn_coco.h5\t   README.md\ttrain_shapes.ipynb\r\n",
            "images\t\t    model.py\t\t   samples\tutils.py\r\n",
            "inspect_data.ipynb  parallel_model.py\t   shapes.py\tvisualize.py\r\n",
            "Uploaded file with ID 1G10V30DJq-sTxdG3ihvUBQauoGLxyb9H\n"
          ],
          "name": "stdout"
        }
      ]
    }
  ]
}